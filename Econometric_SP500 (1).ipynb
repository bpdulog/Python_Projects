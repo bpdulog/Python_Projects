{
 "cells": [
  {
   "cell_type": "code",
   "execution_count": 425,
   "metadata": {},
   "outputs": [],
   "source": [
    "# Purpose of this Python script is to better understand the mechanics of the LSTM recurrent neural network approach.\n",
    "# The application I have chosen is one that matches my background very well: economics and finance\n",
    "# Objective is to predict the level of S&P 500 by using various economic indicators on a quarterly lag\n",
    "# The reality is that predicting the S&P 500 is nearly impossible, which lends credit to the theory of a random walk\n",
    "\n",
    "# The code was largely leveraged following the steps outlined in the following article:\n",
    "# https://towardsdatascience.com/how-to-convert-pandas-dataframe-to-keras-rnn-and-back-to-pandas-for-multivariate-regression-dcc34c991df9"
   ]
  },
  {
   "cell_type": "code",
   "execution_count": 426,
   "metadata": {},
   "outputs": [],
   "source": [
    "import numpy as np\n",
    "import datetime\n",
    "import pandas as pd\n",
    "import matplotlib as plt\n",
    "import pandas_datareader as web\n",
    "from sklearn.preprocessing import MinMaxScaler\n",
    "from pandas.plotting import register_matplotlib_converters\n",
    "register_matplotlib_converters()\n",
    "from keras.preprocessing.sequence import TimeseriesGenerator\n",
    "from keras.models import Sequential\n",
    "from keras.layers import Dropout\n",
    "from keras.layers import Dense\n",
    "from keras.layers import LSTM\n",
    "\n",
    "\n"
   ]
  },
  {
   "cell_type": "code",
   "execution_count": 427,
   "metadata": {},
   "outputs": [],
   "source": [
    "# Collecting economic data from FRED and SPY price data from Yahoo Finance"
   ]
  },
  {
   "cell_type": "code",
   "execution_count": 428,
   "metadata": {},
   "outputs": [
    {
     "name": "stdout",
     "output_type": "stream",
     "text": [
      "     T10Y2Y   HOUST  PPIACO  BAMLH0A0HYM2  TEDRATE       Date       Close\n",
      "1      0.48  1492.0   127.0          2.90     0.63 1997-05-01   80.000000\n",
      "2      0.42  1442.0   127.4          2.91     0.71 1997-07-01   89.343750\n",
      "3      0.43  1437.0   126.9          2.70     0.77 1997-08-01   94.937500\n",
      "4      0.31  1390.0   127.2          2.57     0.55 1997-10-01   95.625000\n",
      "5      0.29  1520.0   127.8          2.63     0.80 1997-12-01   98.093750\n",
      "..      ...     ...     ...           ...      ...        ...         ...\n",
      "169    0.09  1340.0   198.6          4.08     0.31 2019-11-01  306.140015\n",
      "170    0.17  1371.0   199.0          4.09     0.40 2020-04-01  246.149994\n",
      "171    0.39   934.0   185.5          9.11     1.35 2020-05-01  282.790009\n",
      "172    0.44  1038.0   188.6          7.70     0.42 2020-06-01  305.549988\n",
      "173    0.52  1265.0   191.1          6.43     0.20 2020-07-01  310.519989\n",
      "\n",
      "[173 rows x 7 columns]\n"
     ]
    }
   ],
   "source": [
    "start = datetime.datetime(1975, 1, 1)\n",
    "\n",
    "end = datetime.datetime(2020, 10, 1)\n",
    "\n",
    "data = web.DataReader(['T10Y2Y', 'HOUST', 'PPIACO', 'BAMLH0A0HYM2', 'TEDRATE'], 'fred', start, end)\n",
    "data = data.dropna()\n",
    "\n",
    "\n",
    "df = web.DataReader('SPY','yahoo', start, end).reset_index()\n",
    "df.drop(['High', 'Low', 'Open', 'Volume', 'Adj Close'], axis = 1, inplace = True)\n",
    "\n",
    "df2 = pd.merge(data, df, left_on = 'DATE', right_on = 'Date')\n",
    "\n",
    "for column in df2[['T10Y2Y', 'HOUST', 'PPIACO', 'BAMLH0A0HYM2', 'TEDRATE']]:\n",
    "   # Select column contents by column name using [] operator\n",
    "   df2[column] = df2[column].shift(periods = 1)\n",
    "   \n",
    "\n",
    "df2 = df2.dropna()\n",
    "\n",
    "print(df2)\n",
    "\n",
    "\n",
    "\n",
    "\n",
    "\n"
   ]
  },
  {
   "cell_type": "code",
   "execution_count": 429,
   "metadata": {},
   "outputs": [],
   "source": [
    "# Dropping the output column"
   ]
  },
  {
   "cell_type": "code",
   "execution_count": 430,
   "metadata": {},
   "outputs": [
    {
     "name": "stdout",
     "output_type": "stream",
     "text": [
      "(173, 7)\n",
      "(173, 6)\n"
     ]
    }
   ],
   "source": [
    "y_col = 'Close' # define y variable, i.e., what we want to predict\n",
    "print(df2.shape) # print the number of rows anc columns\n",
    "df2.head()\n",
    "df2.drop(['Date'], axis = 1, inplace = True)\n",
    "\n",
    "print(df2.shape)\n"
   ]
  },
  {
   "cell_type": "code",
   "execution_count": 431,
   "metadata": {},
   "outputs": [],
   "source": [
    "# Defining the training and test data"
   ]
  },
  {
   "cell_type": "code",
   "execution_count": 432,
   "metadata": {},
   "outputs": [
    {
     "name": "stdout",
     "output_type": "stream",
     "text": [
      "(139, 6) (34, 6)\n"
     ]
    }
   ],
   "source": [
    "test_size = int(len(df2) * 0.2) # the test data will be 20% (0.2) of the entire data\n",
    "train = df2.iloc[:-test_size,:].copy() \n",
    "# the copy() here is important, it will prevent us from getting: SettingWithCopyWarning: A value is trying to be set on a copy of a slice from a DataFrame. Try using .loc[row_index,col_indexer] = value instead\n",
    "test = df2.iloc[-test_size:,:].copy()\n",
    "print(train.shape, test.shape)"
   ]
  },
  {
   "cell_type": "code",
   "execution_count": 433,
   "metadata": {},
   "outputs": [],
   "source": [
    "# Separating the X and Y training data"
   ]
  },
  {
   "cell_type": "code",
   "execution_count": 434,
   "metadata": {},
   "outputs": [
    {
     "name": "stdout",
     "output_type": "stream",
     "text": [
      "(139, 5) (139, 1)\n"
     ]
    }
   ],
   "source": [
    "#separate X and y only for the train data (for now)\n",
    "X_train = train.drop(y_col,axis = 1).copy()\n",
    "y_train = train[[y_col]].copy() # the double brakets here are to keep the y in a dataframe format, otherwise it will be pandas Series\n",
    "print(X_train.shape, y_train.shape)"
   ]
  },
  {
   "cell_type": "code",
   "execution_count": 435,
   "metadata": {},
   "outputs": [],
   "source": [
    "# Scaling the X and Y training data and converting into numpy arrays for keras"
   ]
  },
  {
   "cell_type": "code",
   "execution_count": 436,
   "metadata": {},
   "outputs": [
    {
     "name": "stdout",
     "output_type": "stream",
     "text": [
      "(139, 5)\n",
      "(139, 1)\n",
      "(139,)\n"
     ]
    }
   ],
   "source": [
    "Xscaler = MinMaxScaler(feature_range = (0, 1)) # scale so that all the X data will range from 0 to 1\n",
    "Xscaler.fit_transform(X_train)\n",
    "scaled_X_train = Xscaler.transform(X_train)\n",
    "print(X_train.shape)\n",
    "Yscaler = MinMaxScaler(feature_range = (0, 1))\n",
    "Yscaler.fit(y_train)\n",
    "scaled_y_train = Yscaler.transform(y_train)\n",
    "print(scaled_y_train.shape)\n",
    "scaled_y_train = scaled_y_train.reshape(-1) # remove the second dimention from y so the shape changes from (n,1) to (n,)\n",
    "print(scaled_y_train.shape)\n",
    "\n",
    "scaled_y_train = np.insert(scaled_y_train, 0, 0)\n",
    "scaled_y_train = np.delete(scaled_y_train, -1)"
   ]
  },
  {
   "cell_type": "code",
   "execution_count": 437,
   "metadata": {},
   "outputs": [],
   "source": [
    "# Producing batches for training/validatio"
   ]
  },
  {
   "cell_type": "code",
   "execution_count": 438,
   "metadata": {},
   "outputs": [
    {
     "name": "stdout",
     "output_type": "stream",
     "text": [
      "(5, 15, 5)\n"
     ]
    }
   ],
   "source": [
    "n_input = 15 #how many samples/rows/timesteps to look in the past in order to forecast the next sample\n",
    "n_features = X_train.shape[1] # how many predictors/Xs/features we have to predict y\n",
    "b_size = 5 # Number of timeseries samples in each batch\n",
    "generator = TimeseriesGenerator(scaled_X_train, scaled_y_train, length = n_input, batch_size = b_size)\n",
    "\n",
    "print(generator[0][0].shape)"
   ]
  },
  {
   "cell_type": "code",
   "execution_count": 439,
   "metadata": {},
   "outputs": [],
   "source": [
    "# Defining the LSTM RNN model"
   ]
  },
  {
   "cell_type": "code",
   "execution_count": 440,
   "metadata": {},
   "outputs": [
    {
     "name": "stdout",
     "output_type": "stream",
     "text": [
      "Model: \"sequential_23\"\n",
      "_________________________________________________________________\n",
      "Layer (type)                 Output Shape              Param #   \n",
      "=================================================================\n",
      "lstm_25 (LSTM)               (None, 250)               256000    \n",
      "_________________________________________________________________\n",
      "dropout_2 (Dropout)          (None, 250)               0         \n",
      "_________________________________________________________________\n",
      "dense_20 (Dense)             (None, 1)                 251       \n",
      "=================================================================\n",
      "Total params: 256,251\n",
      "Trainable params: 256,251\n",
      "Non-trainable params: 0\n",
      "_________________________________________________________________\n"
     ]
    }
   ],
   "source": [
    "model = Sequential()\n",
    "model.add(LSTM(250, activation = 'relu', input_shape = (n_input, n_features)))\n",
    "model.add(Dropout(0.4))\n",
    "model.add(Dense(1))\n",
    "model.compile(optimizer = 'adam', loss = 'mse' )\n",
    "model.summary()"
   ]
  },
  {
   "cell_type": "code",
   "execution_count": 441,
   "metadata": {},
   "outputs": [
    {
     "name": "stdout",
     "output_type": "stream",
     "text": [
      "Epoch 1/40\n",
      "25/25 [==============================] - 1s 36ms/step - loss: 0.0772\n",
      "Epoch 2/40\n",
      "25/25 [==============================] - 0s 11ms/step - loss: 0.0425\n",
      "Epoch 3/40\n",
      "25/25 [==============================] - 0s 9ms/step - loss: 0.0341\n",
      "Epoch 4/40\n",
      "25/25 [==============================] - 0s 9ms/step - loss: 0.0233\n",
      "Epoch 5/40\n",
      "25/25 [==============================] - 0s 9ms/step - loss: 0.0201\n",
      "Epoch 6/40\n",
      "25/25 [==============================] - 0s 9ms/step - loss: 0.0235\n",
      "Epoch 7/40\n",
      "25/25 [==============================] - 0s 9ms/step - loss: 0.0267\n",
      "Epoch 8/40\n",
      "25/25 [==============================] - 0s 10ms/step - loss: 0.0174\n",
      "Epoch 9/40\n",
      "25/25 [==============================] - 0s 10ms/step - loss: 0.0231\n",
      "Epoch 10/40\n",
      "25/25 [==============================] - 0s 9ms/step - loss: 0.0204\n",
      "Epoch 11/40\n",
      "25/25 [==============================] - 0s 9ms/step - loss: 0.0110\n",
      "Epoch 12/40\n",
      "25/25 [==============================] - 0s 10ms/step - loss: 0.0084\n",
      "Epoch 13/40\n",
      "25/25 [==============================] - 0s 10ms/step - loss: 0.0156\n",
      "Epoch 14/40\n",
      "25/25 [==============================] - 0s 12ms/step - loss: 0.0074\n",
      "Epoch 15/40\n",
      "25/25 [==============================] - 0s 11ms/step - loss: 0.0128\n",
      "Epoch 16/40\n",
      "25/25 [==============================] - 0s 11ms/step - loss: 0.0151\n",
      "Epoch 17/40\n",
      "25/25 [==============================] - 0s 12ms/step - loss: 0.0073\n",
      "Epoch 18/40\n",
      "25/25 [==============================] - 0s 12ms/step - loss: 0.0101\n",
      "Epoch 19/40\n",
      "25/25 [==============================] - 0s 11ms/step - loss: 0.0099\n",
      "Epoch 20/40\n",
      "25/25 [==============================] - 0s 12ms/step - loss: 0.0057\n",
      "Epoch 21/40\n",
      "25/25 [==============================] - 0s 10ms/step - loss: 0.0082\n",
      "Epoch 22/40\n",
      "25/25 [==============================] - 0s 10ms/step - loss: 0.0073\n",
      "Epoch 23/40\n",
      "25/25 [==============================] - 0s 9ms/step - loss: 0.0082\n",
      "Epoch 24/40\n",
      "25/25 [==============================] - 0s 9ms/step - loss: 0.0068\n",
      "Epoch 25/40\n",
      "25/25 [==============================] - 0s 10ms/step - loss: 0.0073\n",
      "Epoch 26/40\n",
      "25/25 [==============================] - 0s 10ms/step - loss: 0.0080\n",
      "Epoch 27/40\n",
      "25/25 [==============================] - 0s 9ms/step - loss: 0.0066\n",
      "Epoch 28/40\n",
      "25/25 [==============================] - 0s 9ms/step - loss: 0.0057\n",
      "Epoch 29/40\n",
      "25/25 [==============================] - 0s 9ms/step - loss: 0.0054\n",
      "Epoch 30/40\n",
      "25/25 [==============================] - 0s 9ms/step - loss: 0.0053\n",
      "Epoch 31/40\n",
      "25/25 [==============================] - 0s 10ms/step - loss: 0.0054\n",
      "Epoch 32/40\n",
      "25/25 [==============================] - 0s 9ms/step - loss: 0.0119\n",
      "Epoch 33/40\n",
      "25/25 [==============================] - 0s 9ms/step - loss: 0.0124\n",
      "Epoch 34/40\n",
      "25/25 [==============================] - 0s 9ms/step - loss: 0.0124\n",
      "Epoch 35/40\n",
      "25/25 [==============================] - 0s 9ms/step - loss: 0.0121\n",
      "Epoch 36/40\n",
      "25/25 [==============================] - 0s 9ms/step - loss: 0.0046\n",
      "Epoch 37/40\n",
      "25/25 [==============================] - 0s 9ms/step - loss: 0.0065\n",
      "Epoch 38/40\n",
      "25/25 [==============================] - 0s 10ms/step - loss: 0.0058\n",
      "Epoch 39/40\n",
      "25/25 [==============================] - 0s 9ms/step - loss: 0.0051\n",
      "Epoch 40/40\n",
      "25/25 [==============================] - 0s 9ms/step - loss: 0.0053\n"
     ]
    },
    {
     "data": {
      "text/plain": [
       "<keras.callbacks.callbacks.History at 0x24440c1e7c8>"
      ]
     },
     "execution_count": 441,
     "metadata": {},
     "output_type": "execute_result"
    }
   ],
   "source": [
    "model.fit_generator(generator,epochs = 40)"
   ]
  },
  {
   "cell_type": "code",
   "execution_count": 442,
   "metadata": {},
   "outputs": [
    {
     "name": "stdout",
     "output_type": "stream",
     "text": [
      "(5, 15, 5)\n",
      "        y_true      y_pred\n",
      "0   281.579987  180.500122\n",
      "1   267.700012  183.907883\n",
      "2   264.980011  187.820084\n",
      "3   273.600006  191.167511\n",
      "4   280.859985  193.686295\n",
      "5   291.730011  195.553940\n",
      "6   273.510010  198.309372\n",
      "7   270.059998  201.277557\n",
      "8   280.420013  202.992218\n",
      "9   285.829987  202.794571\n",
      "10  291.809998  203.942291\n",
      "11  295.660004  205.091019\n",
      "12  294.839996  206.132019\n",
      "13  293.239990  206.537125\n",
      "14  306.140015  207.512161\n",
      "15  246.149994  207.436279\n",
      "16  282.790009  207.156174\n",
      "17  305.549988  192.695206\n",
      "18  310.519989  186.793945\n"
     ]
    },
    {
     "data": {
      "image/png": "[encoded data removed]",
      "text/plain": [
       "<Figure size 432x288 with 1 Axes>"
      ]
     },
     "metadata": {
      "needs_background": "light"
     },
     "output_type": "display_data"
    }
   ],
   "source": [
    "X_test = test.drop(y_col,axis = 1).copy()\n",
    "scaled_X_test = Xscaler.transform(X_test)\n",
    "test_generator = TimeseriesGenerator(scaled_X_test, np.zeros(len(X_test)), length = n_input, batch_size = b_size)\n",
    "print(test_generator[0][0].shape)\n",
    "\n",
    "y_pred_scaled = model.predict(test_generator)\n",
    "y_pred = Yscaler.inverse_transform(y_pred_scaled)\n",
    "results = pd.DataFrame({'y_true':test[y_col].values[n_input:],'y_pred':y_pred.ravel()})\n",
    "print(results)\n",
    "results.plot();"
   ]
  }
 ],
 "metadata": {
  "kernelspec": {
   "display_name": "Python 3",
   "language": "python",
   "name": "python3"
  },
  "language_info": {
   "codemirror_mode": {
    "name": "ipython",
    "version": 3
   },
   "file_extension": ".py",
   "mimetype": "text/x-python",
   "name": "python",
   "nbconvert_exporter": "python",
   "pygments_lexer": "ipython3",
   "version": "3.7.6"
  }
 },
 "nbformat": 4,
 "nbformat_minor": 4
}
