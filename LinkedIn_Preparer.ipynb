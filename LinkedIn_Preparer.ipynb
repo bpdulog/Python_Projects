{
 "cells": [
  {
   "cell_type": "code",
   "execution_count": 5,
   "metadata": {},
   "outputs": [
    {
     "name": "stdout",
     "output_type": "stream",
     "text": [
      "\" Portfolio managers are moving in a similar direction, with direct feeds into alternative databases giving them real-time information and updates to the probability of an individual borrower becoming unemployed, overly indebted or otherwise unlikely to pay. If negative outcomes seem likely, early interventions can then be taken to minimize losses. Accelerated adoption of cloud, AI and other technologies is turning what used to be fantasy into reality. While the coincidence of CECL 2020/Q3 and CCAR 2020 2.0 are making for a busy month for credit loss modelers, we should recognize that this isn't just a one-time happenstance. Going forward, the need to produce forecasts and stress tests in real time – as conditions change and new threats emerge – will be critical for managing and mitigating risk.  \" #finance #banking #riskmanagement #assetmanagement #equities #fixedincome #commodities #derivatives #marketrisk #creditrisk #opsrisk #cfa #frm\n",
      "\n",
      "https://www.garp.org/#!/risk-intelligence/Credit//a1Z1W000005jIqnUAE?utm_source=weekinrisk&utm_medium=email&utm_campaign=weekinrisk&utm_term=article1\n"
     ]
    }
   ],
   "source": [
    "#Description: This is a utility to quickly format news articles on LinkedIn using a predetermined set of hashtags\n",
    "\n",
    "#Paste news article here\n",
    "phrase = str(\" Portfolio managers are moving in a similar direction, with direct feeds into alternative databases giving them real-time information and updates to the probability of an individual borrower becoming unemployed, overly indebted or otherwise unlikely to pay. If negative outcomes seem likely, early interventions can then be taken to minimize losses. Accelerated adoption of cloud, AI and other technologies is turning what used to be fantasy into reality. While the coincidence of CECL 2020/Q3 and CCAR 2020 2.0 are making for a busy month for credit loss modelers, we should recognize that this isn't just a one-time happenstance. Going forward, the need to produce forecasts and stress tests in real time – as conditions change and new threats emerge – will be critical for managing and mitigating risk.  \")\n",
    "             \n",
    "    \n",
    "    \n",
    "#Paste article URL here\n",
    "url = str(\"https://www.garp.org/#!/risk-intelligence/Credit//a1Z1W000005jIqnUAE?utm_source=weekinrisk&utm_medium=email&utm_campaign=weekinrisk&utm_term=article1\")\n",
    "          \n",
    "          \n",
    "\n",
    "\n",
    "#Set of hashtags\n",
    "hashtags = ' #finance #banking #riskmanagement #assetmanagement #equities #fixedincome #commodities #derivatives #marketrisk #creditrisk #opsrisk #cfa #frm'\n",
    "\n",
    "quote = \"\\\"\"\n",
    "\n",
    "new_line = \"\\n\"\n",
    "\n",
    "new_phrase = phrase.replace(\"”\", \"'\").replace(\"“\", \"'\").replace(\"\\\"\", \"'\")\n",
    "\n",
    "combined_phrase = quote + new_phrase + quote + hashtags + new_line +  new_line + url\n",
    "\n",
    "print(combined_phrase)"
   ]
  },
  {
   "cell_type": "code",
   "execution_count": null,
   "metadata": {},
   "outputs": [],
   "source": []
  },
  {
   "cell_type": "code",
   "execution_count": null,
   "metadata": {},
   "outputs": [],
   "source": []
  }
 ],
 "metadata": {
  "kernelspec": {
   "display_name": "Python 3",
   "language": "python",
   "name": "python3"
  },
  "language_info": {
   "codemirror_mode": {
    "name": "ipython",
    "version": 3
   },
   "file_extension": ".py",
   "mimetype": "text/x-python",
   "name": "python",
   "nbconvert_exporter": "python",
   "pygments_lexer": "ipython3",
   "version": "3.7.6"
  }
 },
 "nbformat": 4,
 "nbformat_minor": 4
}
